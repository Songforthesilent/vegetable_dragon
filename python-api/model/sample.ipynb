{
 "cells": [
  {
   "cell_type": "markdown",
   "metadata": {},
   "source": []
  },
  {
   "cell_type": "code",
   "execution_count": 1,
   "metadata": {
    "_cell_guid": "b1076dfc-b9ad-4769-8c92-a6c4dae69d19",
    "_uuid": "8f2839f25d086af736a60e9eeb907d3b93b6e0e5",
    "execution": {
     "iopub.execute_input": "2025-02-25T11:15:16.028065Z",
     "iopub.status.busy": "2025-02-25T11:15:16.027787Z",
     "iopub.status.idle": "2025-02-25T11:15:35.315095Z",
     "shell.execute_reply": "2025-02-25T11:15:35.314249Z",
     "shell.execute_reply.started": "2025-02-25T11:15:16.028043Z"
    },
    "trusted": true
   },
   "outputs": [
    {
     "ename": "ModuleNotFoundError",
     "evalue": "No module named 'torch'",
     "output_type": "error",
     "traceback": [
      "\u001b[1;31m---------------------------------------------------------------------------\u001b[0m",
      "\u001b[1;31mModuleNotFoundError\u001b[0m                       Traceback (most recent call last)",
      "Cell \u001b[1;32mIn[1], line 4\u001b[0m\n\u001b[0;32m      2\u001b[0m \u001b[38;5;28;01mimport\u001b[39;00m\u001b[38;5;250m \u001b[39m\u001b[38;5;21;01mjson\u001b[39;00m\n\u001b[0;32m      3\u001b[0m \u001b[38;5;28;01mimport\u001b[39;00m\u001b[38;5;250m \u001b[39m\u001b[38;5;21;01mpandas\u001b[39;00m\u001b[38;5;250m \u001b[39m\u001b[38;5;28;01mas\u001b[39;00m\u001b[38;5;250m \u001b[39m\u001b[38;5;21;01mpd\u001b[39;00m\n\u001b[1;32m----> 4\u001b[0m \u001b[38;5;28;01mimport\u001b[39;00m\u001b[38;5;250m \u001b[39m\u001b[38;5;21;01mtorch\u001b[39;00m\n\u001b[0;32m      5\u001b[0m \u001b[38;5;28;01mfrom\u001b[39;00m\u001b[38;5;250m \u001b[39m\u001b[38;5;21;01mtorch\u001b[39;00m\u001b[38;5;21;01m.\u001b[39;00m\u001b[38;5;21;01mutils\u001b[39;00m\u001b[38;5;21;01m.\u001b[39;00m\u001b[38;5;21;01mdata\u001b[39;00m\u001b[38;5;250m \u001b[39m\u001b[38;5;28;01mimport\u001b[39;00m Dataset, DataLoader\n\u001b[0;32m      6\u001b[0m \u001b[38;5;28;01mfrom\u001b[39;00m\u001b[38;5;250m \u001b[39m\u001b[38;5;21;01mtransformers\u001b[39;00m\u001b[38;5;250m \u001b[39m\u001b[38;5;28;01mimport\u001b[39;00m BertTokenizer, BertForSequenceClassification, AdamW\n",
      "\u001b[1;31mModuleNotFoundError\u001b[0m: No module named 'torch'"
     ]
    }
   ],
   "source": [
    "import os\n",
    "import json\n",
    "import pandas as pd\n",
    "import torch\n",
    "from torch.utils.data import Dataset, DataLoader\n",
    "from transformers import BertTokenizer, BertForSequenceClassification, AdamW\n",
    "from sklearn.model_selection import train_test_split\n",
    "from sklearn.metrics import accuracy_score, classification_report"
   ]
  },
  {
   "cell_type": "code",
   "execution_count": 2,
   "metadata": {
    "execution": {
     "iopub.execute_input": "2025-02-25T11:15:37.789785Z",
     "iopub.status.busy": "2025-02-25T11:15:37.789207Z",
     "iopub.status.idle": "2025-02-25T11:15:37.793324Z",
     "shell.execute_reply": "2025-02-25T11:15:37.792455Z",
     "shell.execute_reply.started": "2025-02-25T11:15:37.789758Z"
    },
    "trusted": true
   },
   "outputs": [],
   "source": [
    "# 데이터 경로 설정\n",
    "CLICKBAIT_DIR = \"/kaggle/input/samplebait/Clickbait/EC\"\n",
    "NONCLICKBAIT_DIR = \"/kaggle/input/samplebait/NonClickbait/EC\""
   ]
  },
  {
   "cell_type": "code",
   "execution_count": 3,
   "metadata": {
    "execution": {
     "iopub.execute_input": "2025-02-25T11:15:40.758901Z",
     "iopub.status.busy": "2025-02-25T11:15:40.758539Z",
     "iopub.status.idle": "2025-02-25T11:15:40.763857Z",
     "shell.execute_reply": "2025-02-25T11:15:40.762851Z",
     "shell.execute_reply.started": "2025-02-25T11:15:40.758874Z"
    },
    "trusted": true
   },
   "outputs": [],
   "source": [
    "# JSON 파일 로드 함수\n",
    "def load_json_files(directory):\n",
    "    data = []\n",
    "    for filename in os.listdir(directory):\n",
    "        if filename.endswith(\".json\"):\n",
    "            with open(os.path.join(directory, filename), 'r', encoding='utf-8') as f:\n",
    "                content = json.load(f)\n",
    "                title = content[\"sourceDataInfo\"][\"newsTitle\"]\n",
    "                label = content[\"labeledDataInfo\"][\"clickbaitClass\"]\n",
    "                data.append((title, label))\n",
    "    return data"
   ]
  },
  {
   "cell_type": "code",
   "execution_count": 4,
   "metadata": {
    "execution": {
     "iopub.execute_input": "2025-02-25T11:15:43.394076Z",
     "iopub.status.busy": "2025-02-25T11:15:43.393757Z",
     "iopub.status.idle": "2025-02-25T11:15:59.258436Z",
     "shell.execute_reply": "2025-02-25T11:15:59.257798Z",
     "shell.execute_reply.started": "2025-02-25T11:15:43.394051Z"
    },
    "trusted": true
   },
   "outputs": [],
   "source": [
    "# 데이터 로드\n",
    "clickbait_data = load_json_files(CLICKBAIT_DIR)\n",
    "nonclickbait_data = load_json_files(NONCLICKBAIT_DIR)"
   ]
  },
  {
   "cell_type": "code",
   "execution_count": 5,
   "metadata": {
    "execution": {
     "iopub.execute_input": "2025-02-25T11:16:06.065262Z",
     "iopub.status.busy": "2025-02-25T11:16:06.064846Z",
     "iopub.status.idle": "2025-02-25T11:16:06.075470Z",
     "shell.execute_reply": "2025-02-25T11:16:06.074581Z",
     "shell.execute_reply.started": "2025-02-25T11:16:06.065228Z"
    },
    "trusted": true
   },
   "outputs": [],
   "source": [
    "# DataFrame 생성\n",
    "df = pd.DataFrame(clickbait_data + nonclickbait_data, columns=[\"title\", \"label\"])"
   ]
  },
  {
   "cell_type": "code",
   "execution_count": 6,
   "metadata": {
    "execution": {
     "iopub.execute_input": "2025-02-25T11:16:08.779676Z",
     "iopub.status.busy": "2025-02-25T11:16:08.779341Z",
     "iopub.status.idle": "2025-02-25T11:16:08.791793Z",
     "shell.execute_reply": "2025-02-25T11:16:08.790953Z",
     "shell.execute_reply.started": "2025-02-25T11:16:08.779646Z"
    },
    "trusted": true
   },
   "outputs": [],
   "source": [
    "# 데이터 분할\n",
    "train_texts, test_texts, train_labels, test_labels = train_test_split(\n",
    "    df[\"title\"].tolist(), df[\"label\"].tolist(), test_size=0.2, random_state=42\n",
    ")"
   ]
  },
  {
   "cell_type": "code",
   "execution_count": 7,
   "metadata": {
    "execution": {
     "iopub.execute_input": "2025-02-25T11:16:11.172010Z",
     "iopub.status.busy": "2025-02-25T11:16:11.171692Z",
     "iopub.status.idle": "2025-02-25T11:16:17.435962Z",
     "shell.execute_reply": "2025-02-25T11:16:17.435021Z",
     "shell.execute_reply.started": "2025-02-25T11:16:11.171987Z"
    },
    "trusted": true
   },
   "outputs": [
    {
     "data": {
      "application/vnd.jupyter.widget-view+json": {
       "model_id": "8d82cb4d28114c9b986387fdb6db7637",
       "version_major": 2,
       "version_minor": 0
      },
      "text/plain": [
       "tokenizer_config.json:   0%|          | 0.00/49.0 [00:00<?, ?B/s]"
      ]
     },
     "metadata": {},
     "output_type": "display_data"
    },
    {
     "data": {
      "application/vnd.jupyter.widget-view+json": {
       "model_id": "48cd4ecaf8c54877bb36cf959ee5bc87",
       "version_major": 2,
       "version_minor": 0
      },
      "text/plain": [
       "vocab.txt:   0%|          | 0.00/996k [00:00<?, ?B/s]"
      ]
     },
     "metadata": {},
     "output_type": "display_data"
    },
    {
     "data": {
      "application/vnd.jupyter.widget-view+json": {
       "model_id": "785dae6d0e6e487daa7399ea67b11fe0",
       "version_major": 2,
       "version_minor": 0
      },
      "text/plain": [
       "tokenizer.json:   0%|          | 0.00/1.96M [00:00<?, ?B/s]"
      ]
     },
     "metadata": {},
     "output_type": "display_data"
    },
    {
     "data": {
      "application/vnd.jupyter.widget-view+json": {
       "model_id": "e7b95d1903b14187ab62384201d40d84",
       "version_major": 2,
       "version_minor": 0
      },
      "text/plain": [
       "config.json:   0%|          | 0.00/625 [00:00<?, ?B/s]"
      ]
     },
     "metadata": {},
     "output_type": "display_data"
    }
   ],
   "source": [
    "# BERT Tokenizer 로드\n",
    "tokenizer = BertTokenizer.from_pretrained(\"bert-base-multilingual-cased\")"
   ]
  },
  {
   "cell_type": "code",
   "execution_count": 31,
   "metadata": {
    "execution": {
     "iopub.execute_input": "2025-02-25T11:32:24.251558Z",
     "iopub.status.busy": "2025-02-25T11:32:24.251228Z",
     "iopub.status.idle": "2025-02-25T11:32:24.257134Z",
     "shell.execute_reply": "2025-02-25T11:32:24.256284Z",
     "shell.execute_reply.started": "2025-02-25T11:32:24.251532Z"
    },
    "trusted": true
   },
   "outputs": [],
   "source": [
    "# 데이터셋 클래스 정의\n",
    "class ClickbaitDataset(Dataset):\n",
    "    def __init__(self, texts, labels, tokenizer, max_len=64):\n",
    "        self.texts = texts\n",
    "        self.labels = labels\n",
    "        self.tokenizer = tokenizer\n",
    "        self.max_len = max_len\n",
    "\n",
    "    def __len__(self):\n",
    "        return len(self.texts)\n",
    "\n",
    "    def __getitem__(self, idx):\n",
    "        encoding = self.tokenizer(\n",
    "        self.texts[idx],\n",
    "        padding=\"max_length\",\n",
    "        truncation=True,\n",
    "        max_length=self.max_len,\n",
    "        return_tensors=\"pt\"\n",
    "        )\n",
    "\n",
    "        return {\n",
    "            \"input_ids\": encoding[\"input_ids\"].squeeze(0),\n",
    "            \"attention_mask\": encoding[\"attention_mask\"].squeeze(0),\n",
    "            \"labels\": torch.tensor(self.labels[idx], dtype=torch.long)\n",
    "        }"
   ]
  },
  {
   "cell_type": "code",
   "execution_count": 32,
   "metadata": {
    "execution": {
     "iopub.execute_input": "2025-02-25T11:32:26.177555Z",
     "iopub.status.busy": "2025-02-25T11:32:26.177243Z",
     "iopub.status.idle": "2025-02-25T11:32:26.182258Z",
     "shell.execute_reply": "2025-02-25T11:32:26.181405Z",
     "shell.execute_reply.started": "2025-02-25T11:32:26.177530Z"
    },
    "trusted": true
   },
   "outputs": [],
   "source": [
    "# 데이터로더 설정\n",
    "train_dataset = ClickbaitDataset(train_texts, train_labels, tokenizer)\n",
    "test_dataset = ClickbaitDataset(test_texts, test_labels, tokenizer)\n",
    "train_loader = DataLoader(train_dataset, batch_size=16, shuffle=True)\n",
    "test_loader = DataLoader(test_dataset, batch_size=16, shuffle=False)"
   ]
  },
  {
   "cell_type": "code",
   "execution_count": 33,
   "metadata": {
    "execution": {
     "iopub.execute_input": "2025-02-25T11:32:27.922014Z",
     "iopub.status.busy": "2025-02-25T11:32:27.921681Z",
     "iopub.status.idle": "2025-02-25T11:32:28.831590Z",
     "shell.execute_reply": "2025-02-25T11:32:28.830674Z",
     "shell.execute_reply.started": "2025-02-25T11:32:27.921989Z"
    },
    "trusted": true
   },
   "outputs": [
    {
     "name": "stderr",
     "output_type": "stream",
     "text": [
      "Some weights of BertForSequenceClassification were not initialized from the model checkpoint at bert-base-multilingual-cased and are newly initialized: ['classifier.bias', 'classifier.weight']\n",
      "You should probably TRAIN this model on a down-stream task to be able to use it for predictions and inference.\n"
     ]
    }
   ],
   "source": [
    "# 모델 설정\n",
    "model = BertForSequenceClassification.from_pretrained(\"bert-base-multilingual-cased\", num_labels=2)\n",
    "device = torch.device(\"cuda\" if torch.cuda.is_available() else \"cpu\")\n",
    "model.to(device)# 옵티마이저 및 손실 함수 설정\n",
    "optimizer = AdamW(model.parameters(), lr=2e-5)\n",
    "loss_fn = torch.nn.CrossEntropyLoss()"
   ]
  },
  {
   "cell_type": "code",
   "execution_count": 34,
   "metadata": {
    "execution": {
     "iopub.execute_input": "2025-02-25T11:32:30.515360Z",
     "iopub.status.busy": "2025-02-25T11:32:30.515053Z",
     "iopub.status.idle": "2025-02-25T11:32:30.521700Z",
     "shell.execute_reply": "2025-02-25T11:32:30.520977Z",
     "shell.execute_reply.started": "2025-02-25T11:32:30.515336Z"
    },
    "trusted": true
   },
   "outputs": [],
   "source": [
    "# 옵티마이저 및 손실 함수 설정\n",
    "optimizer = AdamW(model.parameters(), lr=2e-5)\n",
    "loss_fn = torch.nn.CrossEntropyLoss()"
   ]
  },
  {
   "cell_type": "code",
   "execution_count": 40,
   "metadata": {
    "execution": {
     "iopub.execute_input": "2025-02-25T11:41:13.604282Z",
     "iopub.status.busy": "2025-02-25T11:41:13.603928Z",
     "iopub.status.idle": "2025-02-25T11:47:20.657439Z",
     "shell.execute_reply": "2025-02-25T11:47:20.656566Z",
     "shell.execute_reply.started": "2025-02-25T11:41:13.604258Z"
    },
    "trusted": true
   },
   "outputs": [
    {
     "name": "stdout",
     "output_type": "stream",
     "text": [
      "Epoch 1, Loss: 0.44006777789882834\n",
      "Epoch 2, Loss: 0.3274800752930541\n",
      "Epoch 3, Loss: 0.21193535043769463\n",
      "Epoch 4, Loss: 0.13644239449866485\n",
      "Epoch 5, Loss: 0.09781436894722849\n",
      "Epoch 6, Loss: 0.08486610189869914\n"
     ]
    }
   ],
   "source": [
    "# 모델 학습\n",
    "EPOCHS = 6\n",
    "for epoch in range(EPOCHS):\n",
    "    model.train()\n",
    "    total_loss = 0\n",
    "    for batch in train_loader:\n",
    "        input_ids, attention_mask, labels = batch[\"input_ids\"].to(device), batch[\"attention_mask\"].to(device), batch[\"labels\"].to(device)\n",
    "        optimizer.zero_grad()\n",
    "        outputs = model(input_ids, attention_mask=attention_mask, labels=labels)\n",
    "        loss = outputs.loss\n",
    "        loss.backward()\n",
    "        optimizer.step()\n",
    "        total_loss += loss.item()\n",
    "    print(f\"Epoch {epoch+1}, Loss: {total_loss / len(train_loader)}\")"
   ]
  },
  {
   "cell_type": "code",
   "execution_count": 41,
   "metadata": {
    "execution": {
     "iopub.execute_input": "2025-02-25T11:47:28.653317Z",
     "iopub.status.busy": "2025-02-25T11:47:28.652996Z",
     "iopub.status.idle": "2025-02-25T11:47:33.092105Z",
     "shell.execute_reply": "2025-02-25T11:47:33.091200Z",
     "shell.execute_reply.started": "2025-02-25T11:47:28.653288Z"
    },
    "trusted": true
   },
   "outputs": [],
   "source": [
    "# 모델 평가\n",
    "model.eval()\n",
    "predictions, true_labels = [], []\n",
    "with torch.no_grad():\n",
    "    for batch in test_loader:\n",
    "        input_ids, attention_mask, labels = batch[\"input_ids\"].to(device), batch[\"attention_mask\"].to(device), batch[\"labels\"].to(device)\n",
    "        outputs = model(input_ids, attention_mask=attention_mask)\n",
    "        preds = torch.argmax(outputs.logits, dim=1)\n",
    "        predictions.extend(preds.cpu().numpy())\n",
    "        true_labels.extend(labels.cpu().numpy())"
   ]
  },
  {
   "cell_type": "code",
   "execution_count": 42,
   "metadata": {
    "execution": {
     "iopub.execute_input": "2025-02-25T11:47:35.110360Z",
     "iopub.status.busy": "2025-02-25T11:47:35.110054Z",
     "iopub.status.idle": "2025-02-25T11:47:35.125786Z",
     "shell.execute_reply": "2025-02-25T11:47:35.125009Z",
     "shell.execute_reply.started": "2025-02-25T11:47:35.110333Z"
    },
    "trusted": true
   },
   "outputs": [
    {
     "name": "stdout",
     "output_type": "stream",
     "text": [
      "Accuracy: 0.6720532319391636\n",
      "Classification Report:\n",
      "               precision    recall  f1-score   support\n",
      "\n",
      "           0       0.68      0.69      0.68       539\n",
      "           1       0.67      0.65      0.66       513\n",
      "\n",
      "    accuracy                           0.67      1052\n",
      "   macro avg       0.67      0.67      0.67      1052\n",
      "weighted avg       0.67      0.67      0.67      1052\n",
      "\n"
     ]
    }
   ],
   "source": [
    "# 결과 출력\n",
    "print(\"Accuracy:\", accuracy_score(true_labels, predictions))\n",
    "print(\"Classification Report:\\n\", classification_report(true_labels, predictions))"
   ]
  },
  {
   "cell_type": "code",
   "execution_count": 48,
   "metadata": {
    "execution": {
     "iopub.execute_input": "2025-02-25T11:59:45.423823Z",
     "iopub.status.busy": "2025-02-25T11:59:45.423459Z",
     "iopub.status.idle": "2025-02-25T11:59:46.037238Z",
     "shell.execute_reply": "2025-02-25T11:59:46.036430Z",
     "shell.execute_reply.started": "2025-02-25T11:59:45.423795Z"
    },
    "trusted": true
   },
   "outputs": [
    {
     "name": "stdout",
     "output_type": "stream",
     "text": [
      "입력 제목: 공공구매에 사회가치 본격 반영\n",
      "예측 결과: Non-Clickbait (확률: [0.9918630123138428, 0.008136944845318794])\n",
      "입력 제목: 국민연금 못받는 20대\n",
      "예측 결과: Non-Clickbait (확률: [0.9953082203865051, 0.004691801033914089])\n",
      "입력 제목: 이재명 중국 귀화, 리짜오밍으로 개명까지\n",
      "예측 결과: Clickbait (확률: [0.1932271271944046, 0.8067728877067566])\n"
     ]
    }
   ],
   "source": [
    "# 모델을 평가 모드로 전환\n",
    "model.eval()\n",
    "\n",
    "# 토크나이저 로드 (미리 사용한 것과 동일한 모델로 로드)\n",
    "tokenizer = BertTokenizer.from_pretrained(\"bert-base-multilingual-cased\")\n",
    "\n",
    "def predict_clickbait(title):\n",
    "    # 입력 데이터 토큰화\n",
    "    inputs = tokenizer(title, padding=True, truncation=True, max_length=128, return_tensors=\"pt\")\n",
    "    \n",
    "    # GPU 사용 가능하면 이동\n",
    "    device = torch.device(\"cuda\" if torch.cuda.is_available() else \"cpu\")\n",
    "    model.to(device)\n",
    "    inputs = {key: val.to(device) for key, val in inputs.items()}\n",
    "    \n",
    "    # 모델 예측 수행\n",
    "    with torch.no_grad():\n",
    "        outputs = model(**inputs)\n",
    "    \n",
    "    # 예측값 변환 (로직 → 확률 → 클래스)\n",
    "    logits = outputs.logits\n",
    "    probabilities = torch.softmax(logits, dim=1)\n",
    "    predicted_class = torch.argmax(probabilities, dim=1).item()\n",
    "    \n",
    "    # 출력\n",
    "    label_map = {0: \"Non-Clickbait\", 1: \"Clickbait\"}\n",
    "    print(f\"입력 제목: {title}\")\n",
    "    print(f\"예측 결과: {label_map[predicted_class]} (확률: {probabilities.squeeze().tolist()})\")\n",
    "\n",
    "# 샘플 테스트\n",
    "sample_titles = [\n",
    "    \"공공구매에 사회가치 본격 반영\",\n",
    "    \"국민연금 못받는 20대\",\n",
    "    \"이재명 중국 귀화, 리짜오밍으로 개명까지\"\n",
    "]\n",
    "\n",
    "for title in sample_titles:\n",
    "    predict_clickbait(title)\n"
   ]
  },
  {
   "cell_type": "code",
   "execution_count": 39,
   "metadata": {
    "execution": {
     "iopub.execute_input": "2025-02-25T11:37:24.241378Z",
     "iopub.status.busy": "2025-02-25T11:37:24.241026Z",
     "iopub.status.idle": "2025-02-25T11:37:24.373436Z",
     "shell.execute_reply": "2025-02-25T11:37:24.372277Z",
     "shell.execute_reply.started": "2025-02-25T11:37:24.241349Z"
    },
    "trusted": true
   },
   "outputs": [
    {
     "data": {
      "image/png": "[encoded data removed]",
      "text/plain": [
       "<Figure size 640x480 with 1 Axes>"
      ]
     },
     "metadata": {},
     "output_type": "display_data"
    }
   ],
   "source": [
    "import matplotlib.pyplot as plt\n",
    "\n",
    "# 데이터 라벨 분포 확인\n",
    "label_counts = df[\"label\"].value_counts()\n",
    "plt.bar([\"Non-Clickbait\", \"Clickbait\"], label_counts)\n",
    "plt.xlabel(\"Class\")\n",
    "plt.ylabel(\"Count\")\n",
    "plt.title(\"Dataset Distribution\")\n",
    "plt.show()"
   ]
  },
  {
   "cell_type": "code",
   "execution_count": null,
   "metadata": {},
   "outputs": [],
   "source": [
    "# 저장할 경로\n",
    "model_save_path = \"python-api/model/clickbait_model.pt\"\n",
    "tokenizer_save_path = \"python-api/tokenizer_dir\"\n",
    "\n",
    "# 모델 저장\n",
    "torch.save(model.state_dict(), model_save_path)\n",
    "print(f\"Model saved to {model_save_path}\")\n",
    "\n",
    "# 토크나이저 저장\n",
    "tokenizer.save_pretrained(tokenizer_save_path)\n",
    "print(f\"Tokenizer saved to {tokenizer_save_path}\")"
   ]
  }
 ],
 "metadata": {
  "kaggle": {
   "accelerator": "nvidiaTeslaT4",
   "dataSources": [
    {
     "datasetId": 6738771,
     "sourceId": 10850282,
     "sourceType": "datasetVersion"
    }
   ],
   "dockerImageVersionId": 30919,
   "isGpuEnabled": true,
   "isInternetEnabled": true,
   "language": "python",
   "sourceType": "notebook"
  },
  "kernelspec": {
   "display_name": "Python 3",
   "language": "python",
   "name": "python3"
  },
  "language_info": {
   "codemirror_mode": {
    "name": "ipython",
    "version": 3
   },
   "file_extension": ".py",
   "mimetype": "text/x-python",
   "name": "python",
   "nbconvert_exporter": "python",
   "pygments_lexer": "ipython3",
   "version": "3.11.4"
  }
 },
 "nbformat": 4,
 "nbformat_minor": 4
}
