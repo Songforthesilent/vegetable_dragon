{
 "cells": [
  {
   "cell_type": "code",
   "execution_count": null,
   "id": "9c18df0a",
   "metadata": {},
   "outputs": [
    {
     "name": "stdout",
     "output_type": "stream",
     "text": [
      "{'prediction': 1}\n"
     ]
    }
   ],
   "source": [
    "import requests\n",
    "\n",
    "url = \"https://ngrok-free.app/predict\"  # URL로 변경\n",
    "\n",
    "title = \"\"\"\n",
    "경제 호황기 예상\n",
    "\"\"\"\n",
    "content = \"\"\"\n",
    "금융 전문가들은 내년도 경제 성장률이 3%를 넘을 것으로 전망하며...\n",
    "\"\"\"\n",
    "\n",
    "headers = {\n",
    "    \"Content-Type\": \"application/json\",\n",
    "    \"ngrok-skip-browser-warning\": \"true\"\n",
    "}\n",
    "\n",
    "data = {\n",
    "    \"title\": title,\n",
    "    \"content\": content\n",
    "}\n",
    "\n",
    "res = requests.post(url, json=data, headers=headers)\n",
    "\n",
    "if res.status_code == 200:\n",
    "    result = res.json()\n",
    "    print(f\"예측 결과: {result['prediction']}\")\n",
    "    print(f\"클래스 0 확률: {result['probabilities']['class_0']}%\")\n",
    "    print(f\"클래스 1 확률: {result['probabilities']['class_1']}%\")\n",
    "else:\n",
    "    print(\"에러 발생:\", res.text)"
   ]
  }
 ],
 "metadata": {
  "kernelspec": {
   "display_name": ".venv",
   "language": "python",
   "name": "python3"
  },
  "language_info": {
   "codemirror_mode": {
    "name": "ipython",
    "version": 3
   },
   "file_extension": ".py",
   "mimetype": "text/x-python",
   "name": "python",
   "nbconvert_exporter": "python",
   "pygments_lexer": "ipython3",
   "version": "3.13.3"
  }
 },
 "nbformat": 4,
 "nbformat_minor": 5
}
