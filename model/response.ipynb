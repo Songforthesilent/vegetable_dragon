{
 "cells": [
  {
   "cell_type": "code",
   "execution_count": 4,
   "id": "9c18df0a",
   "metadata": {},
   "outputs": [
    {
     "name": "stdout",
     "output_type": "stream",
     "text": [
      "예측 결과: 1\n",
      "클래스 0 확률: 29.01%\n",
      "클래스 1 확률: 70.99%\n"
     ]
    }
   ],
   "source": [
    "import requests\n",
    "\n",
    "# 실제 서버 실행 시 출력되는 URL로 변경\n",
    "url = \"https://a067-218-235-241-107.ngrok-free.app/predict\"\n",
    "\n",
    "content = \"\"\"\n",
    "젠슨 황 엔비디아 최고경영자(CEO)가 “유용한 양자컴퓨터가 나오려면 30년 이상 걸릴 것”이라는 발언으로 인해 양자컴퓨터 개발 기업들의 주가가 폭락한 후 그에 대해 사과했다. 황 CEO는 미국 텍사스주에서 열린 콘퍼런스에서 최초로 ‘퀀텀 익스프레스’라는 기념행사를 열고 “CEO가 모든 참석자들에게 자신의 실수를 직접 설명하는 건 역사상 처음”이라고 강조했다.\\n\\n양자컴퓨터는 최신 기술을 통해 상상할 수 없는 수준의 계산 능력을 제공할 것으로 기대되지만 황 CEO의 발언은 업계에 큰 충격을 주었다. 그는 1월의 간담회에서 “쓸 만한 양자컴퓨터가 나오려면 최소한 30년은 걸릴 것”이라는 말을 했고, 이로 인해 아이온큐와 리게티를 포함한 여러 회사의 주가는 약 50%나 폭락했다. 이 관련 기업들은 큰 두려움에 휩싸였다.\\n\\n황 CEO는 “우리 엔비디아가 지금의 위치에 오르기까지 30년 이상 걸렸다. 그 시간은 내게는 전혀 긴 시간이 아니다”라고 주장했지만, 그의 발언이 이렇게 큰 파장을 일으킬 줄은 몰랐다며 당혹스러워했다. “양자컴퓨터 기업들이 상장되어 있다는 사실을 어찌 알았겠느냐”고 반문하기도 했다. 그는 급격한 주가 하락 사태를 해소하기 위해 퀀텀 익스프레스를 마련했다.\\n\\n이 자리에서 황 CEO는 양자컴퓨터를 개발하는 10개 이상의 기업 CEO와 대화하며 이 산업의 무한한 가능성을 칭찬했지만, 양자컴퓨터를 전통적 컴퓨터와 같은 관점에서 바라보는 접근 방식에 의문을 제기하기도 했다. 그는 \\\"양자컴퓨터는 단순한 기계가 아니다. 그 기능을 제대로 이해하기 위해서는 기존의 사고방식을 완전히 바꿔야 한다\\\"고 말했다. \\n\\n디웨이브 CEO는 “양자컴퓨터로 수행할 필요가 없는 작업이 많은 것이 사실이지만, 특정한 분야에서는 전통적인 컴퓨터가 할 수 없는 혁신적 결과를 낼 수 있다”고 밝혔으며, 양자컴퓨터의 필요성을 극대화하기 위한 방법론이 절실하다고 덧붙였다. \\n\\n황 CEO는 새로운 연구센터의 설립을 발표했는데, 이 센터는 양자컴퓨팅 분야의 기술 발전을 위한 목표로 만들겠다고 말했다. 이날 행사에서는 황 CEO가 삼성전자 부스를 방문해 최신 그래픽 메모리에 서명을 하면서 의도치 않은 논란의 불씨를 남겼다. \\n\\n이후 황은 \\\"RTX 5090에 대해 특정 메모리 제조사에 대한 부정적인 인식을 가졌다는 점을 사과드린다\\\"고 언급하며, 자신의 발언이 잘못 전해졌다고 해명하는 멘트를 남겼다. 그러나 이 모든 상황이 소비자들에게 어떤 지대한 영향을 미칠지에 대한 우려는 여전한 상태다.\n",
    "\"\"\"\n",
    "\n",
    "headers = {\n",
    "    \"Content-Type\": \"application/json\",\n",
    "    \"ngrok-skip-browser-warning\": \"true\"\n",
    "}\n",
    "\n",
    "data = {\n",
    "    \"title\": \"젠슨 황 \\\"양자컴 상용화 우려, 주가 하락에 놀랐다\\\"\",\n",
    "    \"content\": content\n",
    "}\n",
    "\n",
    "res = requests.post(url, json=data, headers=headers)\n",
    "\n",
    "if res.status_code == 200:\n",
    "    result = res.json()\n",
    "    print(f\"예측 결과: {result['prediction']}\")\n",
    "    print(f\"클래스 0 확률: {result['probabilities']['class_0']}%\")\n",
    "    print(f\"클래스 1 확률: {result['probabilities']['class_1']}%\")\n",
    "else:\n",
    "    print(\"에러 발생:\", res.text)"
   ]
  }
 ],
 "metadata": {
  "kernelspec": {
   "display_name": "Python 3 (ipykernel)",
   "language": "python",
   "name": "python3"
  },
  "language_info": {
   "codemirror_mode": {
    "name": "ipython",
    "version": 3
   },
   "file_extension": ".py",
   "mimetype": "text/x-python",
   "name": "python",
   "nbconvert_exporter": "python",
   "pygments_lexer": "ipython3",
   "version": "3.12.2"
  }
 },
 "nbformat": 4,
 "nbformat_minor": 5
}
