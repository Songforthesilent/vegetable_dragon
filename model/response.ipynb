{
 "cells": [
  {
   "cell_type": "code",
   "execution_count": 4,
   "id": "9c18df0a",
   "metadata": {},
   "outputs": [
    {
     "name": "stdout",
     "output_type": "stream",
     "text": [
      "{'prediction': 1}\n"
     ]
    }
   ],
   "source": [
    "import requests\n",
    "\n",
    "url = \"https://8ead-166-104-245-67.ngrok-free.app/predict\"\n",
    "data = {\n",
    "    \"title\": \"윤 대통령, 미국 방문\",\n",
    "    \"content\": \"윤석열 대통령이 미국을 방문하여 정상회담을 진행했습니다.\"\n",
    "}\n",
    "\n",
    "res = requests.post(url, json=data)\n",
    "print(res.json())"
   ]
  }
 ],
 "metadata": {
  "kernelspec": {
   "display_name": ".venv",
   "language": "python",
   "name": "python3"
  },
  "language_info": {
   "codemirror_mode": {
    "name": "ipython",
    "version": 3
   },
   "file_extension": ".py",
   "mimetype": "text/x-python",
   "name": "python",
   "nbconvert_exporter": "python",
   "pygments_lexer": "ipython3",
   "version": "3.13.3"
  }
 },
 "nbformat": 4,
 "nbformat_minor": 5
}
